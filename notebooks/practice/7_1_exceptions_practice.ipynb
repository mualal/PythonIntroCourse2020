{
 "cells": [
  {
   "cell_type": "markdown",
   "metadata": {},
   "source": [
    "# 1. Работа с исключениями\n",
    "Замените пропуски `____` ниже. Функция `sum_of_list` в качестве аргумента принимает список и вычисляет сумму значений в нём. \n",
    "Если какой-либо элемент в списке не конвертируется в тип float (возникает исключение), он не должен учитываться при подсчёте этой суммы."
   ]
  },
  {
   "cell_type": "code",
   "execution_count": 1,
   "metadata": {},
   "outputs": [],
   "source": [
    "def sum_of_list(values):\n",
    "    # мы должны куда-то суммировать наши значения\n",
    "    sum = 0\n",
    "    for val in values:\n",
    "        # вспоминайте, какую конструкцию мы использовали при работе с исключениями\n",
    "        try:\n",
    "            numeric_val = float(val)\n",
    "        # ниже - что-то про перехват и обработку исключений\n",
    "        except (ValueError, TypeError) as e:\n",
    "            numeric_val = 0\n",
    "            print(f'That was no valid number. Error: {e}')\n",
    "        sum += numeric_val\n",
    "    return sum"
   ]
  },
  {
   "cell_type": "code",
   "execution_count": 2,
   "metadata": {},
   "outputs": [
    {
     "name": "stdout",
     "output_type": "stream",
     "text": [
      "That was no valid number. Error: could not convert string to float: ''\n",
      "That was no valid number. Error: could not convert string to float: 'John'\n",
      "That was no valid number. Error: could not convert string to float: 'Doe'\n",
      "That was no valid number. Error: could not convert string to float: 'was'\n",
      "That was no valid number. Error: could not convert string to float: 'here'\n",
      "That was no valid number. Error: float() argument must be a string or a number, not 'KeyError'\n",
      "That was no valid number. Error: float() argument must be a string or a number, not 'list'\n",
      "That was no valid number. Error: float() argument must be a string or a number, not 'dict'\n"
     ]
    }
   ],
   "source": [
    "# чем дальше - тем более \"непохожие\" на числа элементы лежат в списках\n",
    "list1 = [1, 2, 3]\n",
    "list2 = ['1', 2.5, '3.0']\n",
    "list3 = ['', '1']\n",
    "list4 = []\n",
    "list5 = ['John', 'Doe', 'was', 'here']\n",
    "nasty_list = [KeyError(), [], dict()]\n",
    "\n",
    "assert sum_of_list(list1) == 6\n",
    "assert sum_of_list(list2) == 6.5\n",
    "assert sum_of_list(list3) == 1\n",
    "assert sum_of_list(list4) == 0\n",
    "assert sum_of_list(list5) == 0\n",
    "assert sum_of_list(nasty_list) == 0"
   ]
  },
  {
   "cell_type": "markdown",
   "metadata": {},
   "source": [
    "# 2. Использование собственных исключений\n",
    "Напишите функцид `verify_short_string`, которая принимает в качестве аргумента строку.\n",
    "Если длина этой строки больше 10 символов (без учёта пробелов!), функция должна вызывать исключение `TooLongString`\n",
    "В первом блоке ниже вам нужно будет создать собственное исключение `TooLongString` - т.е. полноценный класс, который наследуется от `Exception`. \n",
    "The function does not have to return anything.  "
   ]
  },
  {
   "cell_type": "code",
   "execution_count": 3,
   "metadata": {},
   "outputs": [],
   "source": [
    "# тут определите класс TooLongString\n",
    "\n",
    "class TooLongString(Exception):\n",
    "    pass\n"
   ]
  },
  {
   "cell_type": "code",
   "execution_count": 4,
   "metadata": {},
   "outputs": [],
   "source": [
    "# а тут - саму функцию, внутри которой будет вызываться исключение TooLongString\n",
    "\n",
    "def verify_short_string(line):\n",
    "    line = line.replace(' ', '')\n",
    "    if len(line) >= 10:\n",
    "        raise TooLongString"
   ]
  },
  {
   "cell_type": "code",
   "execution_count": 5,
   "metadata": {},
   "outputs": [
    {
     "name": "stdout",
     "output_type": "stream",
     "text": [
      "Всё ок! Исключение обработалось\n"
     ]
    }
   ],
   "source": [
    "# ниже исключения не должны возникать\n",
    "verify_short_string('short') \n",
    "# тут - тоже, т.к. строка с пробелами\n",
    "verify_short_string('10   chars')\n",
    "\n",
    "# а вот тут уже - должны. Поэтому нужно будет его обработать\n",
    "\n",
    "try:\n",
    "    verify_short_string('this is long')\n",
    "except TooLongString as e:\n",
    "    print(\"Всё ок! Исключение обработалось\")\n",
    "    pass\n",
    "else:\n",
    "    print(\"Исключение не обработалось :(\")\n",
    "    assert False "
   ]
  },
  {
   "cell_type": "code",
   "execution_count": null,
   "metadata": {},
   "outputs": [],
   "source": []
  }
 ],
 "metadata": {
  "kernelspec": {
   "display_name": "Python 3",
   "language": "python",
   "name": "python3"
  },
  "language_info": {
   "codemirror_mode": {
    "name": "ipython",
    "version": 3
   },
   "file_extension": ".py",
   "mimetype": "text/x-python",
   "name": "python",
   "nbconvert_exporter": "python",
   "pygments_lexer": "ipython3",
   "version": "3.9.7"
  }
 },
 "nbformat": 4,
 "nbformat_minor": 4
}
