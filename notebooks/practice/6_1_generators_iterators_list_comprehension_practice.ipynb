{
 "cells": [
  {
   "cell_type": "code",
   "execution_count": 1,
   "metadata": {},
   "outputs": [],
   "source": [
    "import itertools"
   ]
  },
  {
   "cell_type": "markdown",
   "metadata": {},
   "source": [
    "# 1. Натуральные числа\n",
    "Замените пропуск ____, чтобы создать генератор `g`, лениво генерирующий отрицательные целые числа, начиная с единицы.\n",
    "Чтобы вспомнить, какой итератор из модуля itertools использовать, посмотрите этот момент в лекции/презентации."
   ]
  },
  {
   "cell_type": "code",
   "execution_count": 2,
   "metadata": {},
   "outputs": [
    {
     "name": "stdout",
     "output_type": "stream",
     "text": [
      "-1\n",
      "-2\n",
      "-3\n",
      "-4\n",
      "-5\n",
      "-6\n",
      "-7\n",
      "-8\n",
      "-9\n",
      "-10\n",
      "-11\n",
      "-12\n",
      "-13\n",
      "-14\n",
      "-15\n",
      "-16\n",
      "-17\n",
      "-18\n",
      "-19\n",
      "-20\n"
     ]
    }
   ],
   "source": [
    "g = (-x for x in itertools.count(1))\n",
    "\n",
    "# выведите первые 20 из них\n",
    "# одно нижнее подчёркивание не нужно ни на что заменять\n",
    "# вспомните, зачем оно нужно в Python (первые пары)\n",
    "\n",
    "for _ in range(20):\n",
    "    number = next(g)\n",
    "    print(number)"
   ]
  },
  {
   "cell_type": "code",
   "execution_count": 3,
   "metadata": {},
   "outputs": [],
   "source": [
    "# проверьте, что последнее число - действительно равно -20\n",
    "assert number == -20"
   ]
  },
  {
   "cell_type": "code",
   "execution_count": 4,
   "metadata": {},
   "outputs": [
    {
     "name": "stdout",
     "output_type": "stream",
     "text": [
      "-1\n",
      "-2\n",
      "-3\n",
      "-4\n",
      "-5\n",
      "-6\n",
      "-7\n",
      "-8\n",
      "-9\n",
      "-10\n",
      "-11\n",
      "-12\n",
      "-13\n",
      "-14\n",
      "-15\n",
      "-16\n",
      "-17\n",
      "-18\n",
      "-19\n",
      "-20\n"
     ]
    }
   ],
   "source": [
    "def gen():\n",
    "    for x in range(1,100):\n",
    "        yield -x\n",
    "        \n",
    "        \n",
    "g_2 = gen()\n",
    "\n",
    "for _ in range(20):\n",
    "    number_2 = next(g_2)\n",
    "    print(number_2)"
   ]
  },
  {
   "cell_type": "code",
   "execution_count": 5,
   "metadata": {},
   "outputs": [],
   "source": [
    "# проверьте, что последнее число - действительно равно -20\n",
    "assert number_2 == -20"
   ]
  },
  {
   "cell_type": "markdown",
   "metadata": {},
   "source": [
    "помните, что генераторы запоминают, где остановили работу?\n",
    "\n",
    "Проверим, что генератор `g` начнёт с **-21** и закончит на **-40**!"
   ]
  },
  {
   "cell_type": "code",
   "execution_count": 6,
   "metadata": {},
   "outputs": [
    {
     "name": "stdout",
     "output_type": "stream",
     "text": [
      "-21\n",
      "-22\n",
      "-23\n",
      "-24\n",
      "-25\n",
      "-26\n",
      "-27\n",
      "-28\n",
      "-29\n",
      "-30\n",
      "-31\n",
      "-32\n",
      "-33\n",
      "-34\n",
      "-35\n",
      "-36\n",
      "-37\n",
      "-38\n",
      "-39\n",
      "-40\n"
     ]
    }
   ],
   "source": [
    "for _ in range(20):\n",
    "    number = next(g)\n",
    "    print(number)"
   ]
  },
  {
   "cell_type": "code",
   "execution_count": 7,
   "metadata": {},
   "outputs": [],
   "source": [
    "# не забудьте нажать на кнопку restart выше и заново запустить все блоки кода, \n",
    "# если вы случайно запустили блок выше больше одного раза!\n",
    "\n",
    "assert number == -40"
   ]
  },
  {
   "cell_type": "markdown",
   "metadata": {},
   "source": [
    "# 2. Числа Фиббоначи\n",
    "Замените пропуск ____, чтобы реализовать функцию-генератор fibonacci, которая будет при каждом вызове next выдавать следующее число Фиббоначи ([что это такое?](https://ru.wikipedia.org/wiki/%D0%A7%D0%B8%D1%81%D0%BB%D0%B0_%D0%A4%D0%B8%D0%B1%D0%BE%D0%BD%D0%B0%D1%87%D1%87%D0%B8?oldformat=true))"
   ]
  },
  {
   "cell_type": "code",
   "execution_count": 8,
   "metadata": {},
   "outputs": [],
   "source": [
    "# тут мы будем делать плохое - менять из функции глобальные переменные a и b\n",
    "fib_0, fib_2 = 0, 1\n",
    "\n",
    "a, b = fib_0, fib_2\n",
    "\n",
    "def fibonacci():\n",
    "    for x in itertools.count(1):        \n",
    "        global a\n",
    "        global b\n",
    "        \n",
    "        c = a+b\n",
    "        \n",
    "        a = b\n",
    "        b = c\n",
    "        \n",
    "        yield c"
   ]
  },
  {
   "cell_type": "code",
   "execution_count": 9,
   "metadata": {},
   "outputs": [],
   "source": [
    "# создадим генератор и \"сцепим\" его с первыми двумя Числами Фибоначчи\n",
    "\n",
    "gen = fibonacci()\n",
    "gen_fib = itertools.chain((fib_0, fib_2), gen)"
   ]
  },
  {
   "cell_type": "code",
   "execution_count": 10,
   "metadata": {},
   "outputs": [
    {
     "name": "stdout",
     "output_type": "stream",
     "text": [
      "0\n",
      "1\n",
      "1\n",
      "2\n",
      "3\n",
      "5\n",
      "8\n",
      "13\n",
      "21\n",
      "34\n",
      "55\n",
      "89\n",
      "144\n",
      "233\n",
      "377\n",
      "610\n",
      "987\n",
      "1597\n",
      "2584\n",
      "4181\n"
     ]
    }
   ],
   "source": [
    "# выведем первые 20 значений, создаваемых генератором\n",
    "for _ in range(20):\n",
    "    print(next(gen_fib))"
   ]
  },
  {
   "cell_type": "code",
   "execution_count": 11,
   "metadata": {},
   "outputs": [],
   "source": [
    "# этот блок сработает один раз, т.к. следующее число Фиббоначи равно 6765\n",
    "# если запустить его ещё раз, снова сработает next, и генератор выдаст уже следующее число\n",
    "\n",
    "assert next(gen_fib) == 6765"
   ]
  },
  {
   "cell_type": "code",
   "execution_count": null,
   "metadata": {},
   "outputs": [],
   "source": []
  }
 ],
 "metadata": {
  "kernelspec": {
   "display_name": "Python 3",
   "language": "python",
   "name": "python3"
  },
  "language_info": {
   "codemirror_mode": {
    "name": "ipython",
    "version": 3
   },
   "file_extension": ".py",
   "mimetype": "text/x-python",
   "name": "python",
   "nbconvert_exporter": "python",
   "pygments_lexer": "ipython3",
   "version": "3.9.7"
  }
 },
 "nbformat": 4,
 "nbformat_minor": 2
}
