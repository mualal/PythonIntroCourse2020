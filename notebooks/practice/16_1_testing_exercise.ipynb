{
 "cells": [
  {
   "cell_type": "code",
   "execution_count": 1,
   "metadata": {},
   "outputs": [
    {
     "name": "stdout",
     "output_type": "stream",
     "text": [
      "Requirement already satisfied: pytest in c:\\users\\almuravtsev\\appdata\\local\\programs\\python\\python39\\lib\\site-packages (7.1.1)\n",
      "Requirement already satisfied: py>=1.8.2 in c:\\users\\almuravtsev\\appdata\\local\\programs\\python\\python39\\lib\\site-packages (from pytest) (1.11.0)\n",
      "Requirement already satisfied: pluggy<2.0,>=0.12 in c:\\users\\almuravtsev\\appdata\\local\\programs\\python\\python39\\lib\\site-packages (from pytest) (1.0.0)\n",
      "Requirement already satisfied: iniconfig in c:\\users\\almuravtsev\\appdata\\local\\programs\\python\\python39\\lib\\site-packages (from pytest) (1.1.1)\n",
      "Requirement already satisfied: packaging in c:\\users\\almuravtsev\\appdata\\local\\programs\\python\\python39\\lib\\site-packages (from pytest) (21.3)\n",
      "Requirement already satisfied: colorama in c:\\users\\almuravtsev\\appdata\\local\\programs\\python\\python39\\lib\\site-packages (from pytest) (0.4.4)\n",
      "Requirement already satisfied: attrs>=19.2.0 in c:\\users\\almuravtsev\\appdata\\local\\programs\\python\\python39\\lib\\site-packages (from pytest) (21.4.0)\n",
      "Requirement already satisfied: atomicwrites>=1.0 in c:\\users\\almuravtsev\\appdata\\local\\programs\\python\\python39\\lib\\site-packages (from pytest) (1.4.0)\n",
      "Requirement already satisfied: tomli>=1.0.0 in c:\\users\\almuravtsev\\appdata\\local\\programs\\python\\python39\\lib\\site-packages (from pytest) (1.2.2)\n",
      "Requirement already satisfied: pyparsing!=3.0.5,>=2.0.2 in c:\\users\\almuravtsev\\appdata\\local\\programs\\python\\python39\\lib\\site-packages (from packaging->pytest) (3.0.6)\n",
      "Note: you may need to restart the kernel to use updated packages.\n"
     ]
    },
    {
     "name": "stderr",
     "output_type": "stream",
     "text": [
      "WARNING: You are using pip version 21.2.3; however, version 22.0.4 is available.\n",
      "You should consider upgrading via the 'C:\\Users\\almuravtsev\\AppData\\Local\\Programs\\Python\\Python39\\python.exe -m pip install --upgrade pip' command.\n"
     ]
    },
    {
     "name": "stdout",
     "output_type": "stream",
     "text": [
      "Requirement already satisfied: ipytest in c:\\users\\almuravtsev\\appdata\\local\\programs\\python\\python39\\lib\\site-packages (0.12.0)\n",
      "Requirement already satisfied: packaging in c:\\users\\almuravtsev\\appdata\\local\\programs\\python\\python39\\lib\\site-packages (from ipytest) (21.3)\n",
      "Requirement already satisfied: ipython in c:\\users\\almuravtsev\\appdata\\local\\programs\\python\\python39\\lib\\site-packages (from ipytest) (8.0.1)\n",
      "Requirement already satisfied: pytest>=5.4 in c:\\users\\almuravtsev\\appdata\\local\\programs\\python\\python39\\lib\\site-packages (from ipytest) (7.1.1)\n",
      "Requirement already satisfied: colorama in c:\\users\\almuravtsev\\appdata\\local\\programs\\python\\python39\\lib\\site-packages (from pytest>=5.4->ipytest) (0.4.4)\n",
      "Requirement already satisfied: tomli>=1.0.0 in c:\\users\\almuravtsev\\appdata\\local\\programs\\python\\python39\\lib\\site-packages (from pytest>=5.4->ipytest) (1.2.2)\n",
      "Requirement already satisfied: attrs>=19.2.0 in c:\\users\\almuravtsev\\appdata\\local\\programs\\python\\python39\\lib\\site-packages (from pytest>=5.4->ipytest) (21.4.0)\n",
      "Requirement already satisfied: pluggy<2.0,>=0.12 in c:\\users\\almuravtsev\\appdata\\local\\programs\\python\\python39\\lib\\site-packages (from pytest>=5.4->ipytest) (1.0.0)\n",
      "Requirement already satisfied: py>=1.8.2 in c:\\users\\almuravtsev\\appdata\\local\\programs\\python\\python39\\lib\\site-packages (from pytest>=5.4->ipytest) (1.11.0)\n",
      "Requirement already satisfied: atomicwrites>=1.0 in c:\\users\\almuravtsev\\appdata\\local\\programs\\python\\python39\\lib\\site-packages (from pytest>=5.4->ipytest) (1.4.0)\n",
      "Requirement already satisfied: iniconfig in c:\\users\\almuravtsev\\appdata\\local\\programs\\python\\python39\\lib\\site-packages (from pytest>=5.4->ipytest) (1.1.1)\n",
      "Requirement already satisfied: decorator in c:\\users\\almuravtsev\\appdata\\local\\programs\\python\\python39\\lib\\site-packages (from ipython->ipytest) (5.1.1)\n",
      "Requirement already satisfied: matplotlib-inline in c:\\users\\almuravtsev\\appdata\\local\\programs\\python\\python39\\lib\\site-packages (from ipython->ipytest) (0.1.3)\n",
      "Requirement already satisfied: prompt-toolkit!=3.0.0,!=3.0.1,<3.1.0,>=2.0.0 in c:\\users\\almuravtsev\\appdata\\local\\programs\\python\\python39\\lib\\site-packages (from ipython->ipytest) (3.0.24)\n",
      "Requirement already satisfied: traitlets>=5 in c:\\users\\almuravtsev\\appdata\\local\\programs\\python\\python39\\lib\\site-packages (from ipython->ipytest) (5.1.1)\n",
      "Requirement already satisfied: setuptools>=18.5 in c:\\users\\almuravtsev\\appdata\\local\\programs\\python\\python39\\lib\\site-packages (from ipython->ipytest) (57.4.0)\n",
      "Requirement already satisfied: stack-data in c:\\users\\almuravtsev\\appdata\\local\\programs\\python\\python39\\lib\\site-packages (from ipython->ipytest) (0.1.4)\n",
      "Requirement already satisfied: pygments in c:\\users\\almuravtsev\\appdata\\local\\programs\\python\\python39\\lib\\site-packages (from ipython->ipytest) (2.11.2)\n",
      "Requirement already satisfied: pickleshare in c:\\users\\almuravtsev\\appdata\\local\\programs\\python\\python39\\lib\\site-packages (from ipython->ipytest) (0.7.5)\n",
      "Requirement already satisfied: black in c:\\users\\almuravtsev\\appdata\\local\\programs\\python\\python39\\lib\\site-packages (from ipython->ipytest) (21.12b0)\n",
      "Requirement already satisfied: backcall in c:\\users\\almuravtsev\\appdata\\local\\programs\\python\\python39\\lib\\site-packages (from ipython->ipytest) (0.2.0)\n",
      "Requirement already satisfied: jedi>=0.16 in c:\\users\\almuravtsev\\appdata\\local\\programs\\python\\python39\\lib\\site-packages (from ipython->ipytest) (0.18.1)\n",
      "Requirement already satisfied: parso<0.9.0,>=0.8.0 in c:\\users\\almuravtsev\\appdata\\local\\programs\\python\\python39\\lib\\site-packages (from jedi>=0.16->ipython->ipytest) (0.8.3)\n",
      "Requirement already satisfied: wcwidth in c:\\users\\almuravtsev\\appdata\\local\\programs\\python\\python39\\lib\\site-packages (from prompt-toolkit!=3.0.0,!=3.0.1,<3.1.0,>=2.0.0->ipython->ipytest) (0.2.5)\n",
      "Requirement already satisfied: platformdirs>=2 in c:\\users\\almuravtsev\\appdata\\roaming\\python\\python39\\site-packages (from black->ipython->ipytest) (2.4.0)\n",
      "Note: you may need to restart the kernel to use updated packages.Requirement already satisfied: mypy-extensions>=0.4.3 in c:\\users\\almuravtsev\\appdata\\local\\programs\\python\\python39\\lib\\site-packages (from black->ipython->ipytest) (0.4.3)\n",
      "Requirement already satisfied: pathspec<1,>=0.9.0 in c:\\users\\almuravtsev\\appdata\\local\\programs\\python\\python39\\lib\\site-packages (from black->ipython->ipytest) (0.9.0)\n",
      "Requirement already satisfied: click>=7.1.2 in c:\\users\\almuravtsev\\appdata\\local\\programs\\python\\python39\\lib\\site-packages (from black->ipython->ipytest) (8.0.3)\n",
      "Requirement already satisfied: typing-extensions>=3.10.0.0 in c:\\users\\almuravtsev\\appdata\\local\\programs\\python\\python39\\lib\\site-packages (from black->ipython->ipytest) (4.0.1)\n",
      "Requirement already satisfied: pyparsing!=3.0.5,>=2.0.2 in c:\\users\\almuravtsev\\appdata\\local\\programs\\python\\python39\\lib\\site-packages (from packaging->ipytest) (3.0.6)\n",
      "Requirement already satisfied: executing in c:\\users\\almuravtsev\\appdata\\local\\programs\\python\\python39\\lib\\site-packages (from stack-data->ipython->ipytest) (0.8.2)\n",
      "Requirement already satisfied: pure-eval in c:\\users\\almuravtsev\\appdata\\local\\programs\\python\\python39\\lib\\site-packages (from stack-data->ipython->ipytest) (0.2.1)\n",
      "Requirement already satisfied: asttokens in c:\\users\\almuravtsev\\appdata\\local\\programs\\python\\python39\\lib\\site-packages (from stack-data->ipython->ipytest) (2.0.5)\n",
      "\n",
      "Requirement already satisfied: six in c:\\users\\almuravtsev\\appdata\\roaming\\python\\python39\\site-packages (from asttokens->stack-data->ipython->ipytest) (1.16.0)\n"
     ]
    },
    {
     "name": "stderr",
     "output_type": "stream",
     "text": [
      "WARNING: You are using pip version 21.2.3; however, version 22.0.4 is available.\n",
      "You should consider upgrading via the 'C:\\Users\\almuravtsev\\AppData\\Local\\Programs\\Python\\Python39\\python.exe -m pip install --upgrade pip' command.\n"
     ]
    }
   ],
   "source": [
    "# Установка библиотек\n",
    "# import sys\n",
    "# !{sys.executable} -m pip install pytest\n",
    "# !{sys.executable} -m pip install ipytest\n",
    "\n",
    "%pip install pytest\n",
    "%pip install ipytest\n",
    "\n",
    "# ipytest позволяет запускать pytest в jupyter тетрадях\n",
    "import ipytest\n",
    "import pytest\n",
    "\n",
    "# включает магические команды %%\n",
    "ipytest.autoconfig()\n",
    "__file__ = 'testing1_exercise.ipynb'"
   ]
  },
  {
   "cell_type": "markdown",
   "metadata": {},
   "source": [
    "# 1. Создание вашего первого теста\n",
    "Ниже реализована функция `get_list_of_divisible_by_five`. Напишите под неё 2 теста: один должен проходиться, другой - нет\n"
   ]
  },
  {
   "cell_type": "code",
   "execution_count": 2,
   "metadata": {},
   "outputs": [],
   "source": [
    "def get_list_of_divisible_by_five(numbers):\n",
    "    '''Return a list of numbers which are divisible by five in the list got as an argument'''\n",
    "    result = []\n",
    "    for num in numbers:\n",
    "        if not num % 5:\n",
    "            result.append(num)\n",
    "\n",
    "    return result"
   ]
  },
  {
   "cell_type": "code",
   "execution_count": 3,
   "metadata": {},
   "outputs": [
    {
     "name": "stdout",
     "output_type": "stream",
     "text": [
      "\u001b[32m.\u001b[0m\u001b[31mF\u001b[0m\u001b[31m                                                                                           [100%]\u001b[0m\n",
      "============================================ FAILURES =============================================\n",
      "\u001b[31m\u001b[1m____________________________ test_get_list_of_divisible_by_five_error _____________________________\u001b[0m\n",
      "\n",
      "    \u001b[94mdef\u001b[39;49;00m \u001b[92mtest_get_list_of_divisible_by_five_error\u001b[39;49;00m():\n",
      ">       \u001b[94massert\u001b[39;49;00m get_list_of_divisible_by_five([\u001b[94m5\u001b[39;49;00m, \u001b[94m25\u001b[39;49;00m]) == [\u001b[94m5\u001b[39;49;00m]\n",
      "\u001b[1m\u001b[31mE       assert [5, 25] == [5]\u001b[0m\n",
      "\u001b[1m\u001b[31mE         Left contains one more item: 25\u001b[0m\n",
      "\u001b[1m\u001b[31mE         Use -v to get more diff\u001b[0m\n",
      "\n",
      "\u001b[1m\u001b[31mC:\\Users\\almuravtsev\\AppData\\Local\\Temp\\ipykernel_6188\\3788775767.py\u001b[0m:5: AssertionError\n",
      "===================================== short test summary info =====================================\n",
      "FAILED tmpyz48aaio.py::test_get_list_of_divisible_by_five_error - assert [5, 25] == [5]\n",
      "\u001b[31m\u001b[31m\u001b[1m1 failed\u001b[0m, \u001b[32m1 passed\u001b[0m\u001b[31m in 0.34s\u001b[0m\u001b[0m\n"
     ]
    }
   ],
   "source": [
    "%%ipytest\n",
    "\n",
    "def test_get_list_of_divisible_by_five_pass():\n",
    "    assert get_list_of_divisible_by_five([5, 25]) == [5, 25]\n",
    "    \n",
    "def test_get_list_of_divisible_by_five_error():\n",
    "    assert get_list_of_divisible_by_five([5, 25]) == [5]"
   ]
  },
  {
   "cell_type": "code",
   "execution_count": null,
   "metadata": {},
   "outputs": [],
   "source": []
  }
 ],
 "metadata": {
  "celltoolbar": "Необработанный формат ячейки",
  "kernelspec": {
   "display_name": "Python 3 (ipykernel)",
   "language": "python",
   "name": "python3"
  },
  "language_info": {
   "codemirror_mode": {
    "name": "ipython",
    "version": 3
   },
   "file_extension": ".py",
   "mimetype": "text/x-python",
   "name": "python",
   "nbconvert_exporter": "python",
   "pygments_lexer": "ipython3",
   "version": "3.9.7"
  }
 },
 "nbformat": 4,
 "nbformat_minor": 2
}
