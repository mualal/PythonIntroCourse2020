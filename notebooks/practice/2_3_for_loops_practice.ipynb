{
 "cells": [
  {
   "cell_type": "markdown",
   "metadata": {},
   "source": [
    "# 1. Заполните пропуски\n",
    "Заполните пропуски в коде ниже `____`."
   ]
  },
  {
   "cell_type": "code",
   "execution_count": 1,
   "metadata": {},
   "outputs": [],
   "source": [
    "words = ['PYTHON', 'JOHN', 'chEEse', 'hAm', 'DOE', '123']\n",
    "upper_case_words = []\n",
    "\n",
    "for word in words:\n",
    "    if word.isupper():\n",
    "        upper_case_words.append(word)"
   ]
  },
  {
   "cell_type": "code",
   "execution_count": 2,
   "metadata": {},
   "outputs": [],
   "source": [
    "# проверим\n",
    "assert upper_case_words == ['PYTHON', 'JOHN', 'DOE']"
   ]
  },
  {
   "cell_type": "markdown",
   "metadata": {},
   "source": [
    "# 2. Посчитайте сумму значений словаря\n",
    "Посчитайте сумму значений в словаре `magic_dict`, учтя в ней только численные знаяения (hint: см. [isinstance](https://docs.python.org/3/library/functions.html#isinstance)). "
   ]
  },
  {
   "cell_type": "code",
   "execution_count": 3,
   "metadata": {},
   "outputs": [],
   "source": [
    "magic_dict = dict(val1=44, val2='secret value', val3=55.0, val4=1)"
   ]
  },
  {
   "cell_type": "code",
   "execution_count": 4,
   "metadata": {},
   "outputs": [],
   "source": [
    "# Ваше решение\n",
    "\n",
    "sum_of_values = 0\n",
    "\n",
    "for value in magic_dict.values():\n",
    "    if isinstance(value, (int, float)):\n",
    "        sum_of_values += value\n"
   ]
  },
  {
   "cell_type": "code",
   "execution_count": 5,
   "metadata": {},
   "outputs": [],
   "source": [
    "# Проверим\n",
    "assert sum_of_values == 100"
   ]
  },
  {
   "cell_type": "markdown",
   "metadata": {},
   "source": [
    "# 3. Создайте список строк из списка чисел\n",
    "Правила:\n",
    "* Если число кратно пяти и нечетно, замените его строкой `'five odd'`\n",
    "* Если число кратно пяти и чётно,   замените его строкой `'five even'`\n",
    "* Если число нечетное, замените его строкой быть `'odd'`\n",
    "* Если число четное, замените его строкой `'even'`"
   ]
  },
  {
   "cell_type": "code",
   "execution_count": 6,
   "metadata": {},
   "outputs": [],
   "source": [
    "numbers = [1, 3, 4, 6, 81, 80, 100, 95]"
   ]
  },
  {
   "cell_type": "code",
   "execution_count": 7,
   "metadata": {},
   "outputs": [],
   "source": [
    "# Ваше решение\n",
    "\n",
    "my_list = []\n",
    "\n",
    "for number in numbers:\n",
    "    if number % 5 == 0 and number % 2 == 1:\n",
    "        my_list.append('five odd')\n",
    "        continue\n",
    "    if number % 5 == 0 and number % 2 == 0:\n",
    "        my_list.append('five even')\n",
    "        continue\n",
    "    if number % 2 == 1:\n",
    "        my_list.append('odd')\n",
    "        continue\n",
    "    if number % 2 == 0:\n",
    "        my_list.append('even')\n",
    "        continue\n",
    "    "
   ]
  },
  {
   "cell_type": "code",
   "execution_count": 8,
   "metadata": {},
   "outputs": [],
   "source": [
    "# проверим\n",
    "assert my_list == ['odd', 'odd', 'even', 'even', 'odd', 'five even', 'five even', 'five odd']"
   ]
  },
  {
   "cell_type": "code",
   "execution_count": null,
   "metadata": {},
   "outputs": [],
   "source": []
  }
 ],
 "metadata": {
  "kernelspec": {
   "display_name": "Python 3",
   "language": "python",
   "name": "python3"
  },
  "language_info": {
   "codemirror_mode": {
    "name": "ipython",
    "version": 3
   },
   "file_extension": ".py",
   "mimetype": "text/x-python",
   "name": "python",
   "nbconvert_exporter": "python",
   "pygments_lexer": "ipython3",
   "version": "3.9.7"
  }
 },
 "nbformat": 4,
 "nbformat_minor": 2
}
