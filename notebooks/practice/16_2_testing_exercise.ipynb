{
 "cells": [
  {
   "cell_type": "code",
   "execution_count": 1,
   "metadata": {},
   "outputs": [
    {
     "name": "stdout",
     "output_type": "stream",
     "text": [
      "Requirement already satisfied: pytest in c:\\users\\almuravtsev\\appdata\\local\\programs\\python\\python39\\lib\\site-packages (7.1.1)\n",
      "Requirement already satisfied: packaging in c:\\users\\almuravtsev\\appdata\\local\\programs\\python\\python39\\lib\\site-packages (from pytest) (21.3)\n",
      "Requirement already satisfied: tomli>=1.0.0 in c:\\users\\almuravtsev\\appdata\\local\\programs\\python\\python39\\lib\\site-packages (from pytest) (1.2.2)\n",
      "Requirement already satisfied: colorama in c:\\users\\almuravtsev\\appdata\\local\\programs\\python\\python39\\lib\\site-packages (from pytest) (0.4.4)\n",
      "Requirement already satisfied: pluggy<2.0,>=0.12 in c:\\users\\almuravtsev\\appdata\\local\\programs\\python\\python39\\lib\\site-packages (from pytest) (1.0.0)\n",
      "Requirement already satisfied: attrs>=19.2.0 in c:\\users\\almuravtsev\\appdata\\local\\programs\\python\\python39\\lib\\site-packages (from pytest) (21.4.0)\n",
      "Requirement already satisfied: py>=1.8.2 in c:\\users\\almuravtsev\\appdata\\local\\programs\\python\\python39\\lib\\site-packages (from pytest) (1.11.0)\n",
      "Requirement already satisfied: iniconfig in c:\\users\\almuravtsev\\appdata\\local\\programs\\python\\python39\\lib\\site-packages (from pytest) (1.1.1)\n",
      "Requirement already satisfied: atomicwrites>=1.0 in c:\\users\\almuravtsev\\appdata\\local\\programs\\python\\python39\\lib\\site-packages (from pytest) (1.4.0)\n",
      "Requirement already satisfied: pyparsing!=3.0.5,>=2.0.2 in c:\\users\\almuravtsev\\appdata\\local\\programs\\python\\python39\\lib\\site-packages (from packaging->pytest) (3.0.6)\n",
      "Note: you may need to restart the kernel to use updated packages.\n"
     ]
    },
    {
     "name": "stderr",
     "output_type": "stream",
     "text": [
      "WARNING: You are using pip version 21.2.3; however, version 22.0.4 is available.\n",
      "You should consider upgrading via the 'C:\\Users\\almuravtsev\\AppData\\Local\\Programs\\Python\\Python39\\python.exe -m pip install --upgrade pip' command.\n"
     ]
    },
    {
     "name": "stdout",
     "output_type": "stream",
     "text": [
      "Requirement already satisfied: ipytest in c:\\users\\almuravtsev\\appdata\\local\\programs\\python\\python39\\lib\\site-packages (0.12.0)\n",
      "Requirement already satisfied: ipython in c:\\users\\almuravtsev\\appdata\\local\\programs\\python\\python39\\lib\\site-packages (from ipytest) (8.0.1)\n",
      "Requirement already satisfied: packaging in c:\\users\\almuravtsev\\appdata\\local\\programs\\python\\python39\\lib\\site-packages (from ipytest) (21.3)\n",
      "Requirement already satisfied: pytest>=5.4 in c:\\users\\almuravtsev\\appdata\\local\\programs\\python\\python39\\lib\\site-packages (from ipytest) (7.1.1)\n",
      "Requirement already satisfied: colorama in c:\\users\\almuravtsev\\appdata\\local\\programs\\python\\python39\\lib\\site-packages (from pytest>=5.4->ipytest) (0.4.4)\n",
      "Requirement already satisfied: atomicwrites>=1.0 in c:\\users\\almuravtsev\\appdata\\local\\programs\\python\\python39\\lib\\site-packages (from pytest>=5.4->ipytest) (1.4.0)\n",
      "Requirement already satisfied: pluggy<2.0,>=0.12 in c:\\users\\almuravtsev\\appdata\\local\\programs\\python\\python39\\lib\\site-packages (from pytest>=5.4->ipytest) (1.0.0)\n",
      "Requirement already satisfied: attrs>=19.2.0 in c:\\users\\almuravtsev\\appdata\\local\\programs\\python\\python39\\lib\\site-packages (from pytest>=5.4->ipytest) (21.4.0)\n",
      "Requirement already satisfied: py>=1.8.2 in c:\\users\\almuravtsev\\appdata\\local\\programs\\python\\python39\\lib\\site-packages (from pytest>=5.4->ipytest) (1.11.0)\n",
      "Requirement already satisfied: tomli>=1.0.0 in c:\\users\\almuravtsev\\appdata\\local\\programs\\python\\python39\\lib\\site-packages (from pytest>=5.4->ipytest) (1.2.2)\n",
      "Requirement already satisfied: iniconfig in c:\\users\\almuravtsev\\appdata\\local\\programs\\python\\python39\\lib\\site-packages (from pytest>=5.4->ipytest) (1.1.1)\n",
      "Requirement already satisfied: decorator in c:\\users\\almuravtsev\\appdata\\local\\programs\\python\\python39\\lib\\site-packages (from ipython->ipytest) (5.1.1)\n",
      "Requirement already satisfied: stack-data in c:\\users\\almuravtsev\\appdata\\local\\programs\\python\\python39\\lib\\site-packages (from ipython->ipytest) (0.1.4)\n",
      "Requirement already satisfied: prompt-toolkit!=3.0.0,!=3.0.1,<3.1.0,>=2.0.0 in c:\\users\\almuravtsev\\appdata\\local\\programs\\python\\python39\\lib\\site-packages (from ipython->ipytest) (3.0.24)\n",
      "Requirement already satisfied: traitlets>=5 in c:\\users\\almuravtsev\\appdata\\local\\programs\\python\\python39\\lib\\site-packages (from ipython->ipytest) (5.1.1)\n",
      "Requirement already satisfied: setuptools>=18.5 in c:\\users\\almuravtsev\\appdata\\local\\programs\\python\\python39\\lib\\site-packages (from ipython->ipytest) (57.4.0)\n",
      "Requirement already satisfied: pygments in c:\\users\\almuravtsev\\appdata\\local\\programs\\python\\python39\\lib\\site-packages (from ipython->ipytest) (2.11.2)\n",
      "Requirement already satisfied: pickleshare in c:\\users\\almuravtsev\\appdata\\local\\programs\\python\\python39\\lib\\site-packages (from ipython->ipytest) (0.7.5)\n",
      "Requirement already satisfied: backcall in c:\\users\\almuravtsev\\appdata\\local\\programs\\python\\python39\\lib\\site-packages (from ipython->ipytest) (0.2.0)\n",
      "Requirement already satisfied: matplotlib-inline in c:\\users\\almuravtsev\\appdata\\local\\programs\\python\\python39\\lib\\site-packages (from ipython->ipytest) (0.1.3)\n",
      "Requirement already satisfied: black in c:\\users\\almuravtsev\\appdata\\local\\programs\\python\\python39\\lib\\site-packages (from ipython->ipytest) (21.12b0)\n",
      "Requirement already satisfied: jedi>=0.16 in c:\\users\\almuravtsev\\appdata\\local\\programs\\python\\python39\\lib\\site-packages (from ipython->ipytest) (0.18.1)\n",
      "Requirement already satisfied: parso<0.9.0,>=0.8.0 in c:\\users\\almuravtsev\\appdata\\local\\programs\\python\\python39\\lib\\site-packages (from jedi>=0.16->ipython->ipytest) (0.8.3)\n",
      "Requirement already satisfied: wcwidth in c:\\users\\almuravtsev\\appdata\\local\\programs\\python\\python39\\lib\\site-packages (from prompt-toolkit!=3.0.0,!=3.0.1,<3.1.0,>=2.0.0->ipython->ipytest) (0.2.5)\n",
      "Requirement already satisfied: click>=7.1.2 in c:\\users\\almuravtsev\\appdata\\local\\programs\\python\\python39\\lib\\site-packages (from black->ipython->ipytest) (8.0.3)\n",
      "Requirement already satisfied: pathspec<1,>=0.9.0 in c:\\users\\almuravtsev\\appdata\\local\\programs\\python\\python39\\lib\\site-packages (from black->ipython->ipytest) (0.9.0)\n",
      "Requirement already satisfied: platformdirs>=2 in c:\\users\\almuravtsev\\appdata\\roaming\\python\\python39\\site-packages (from black->ipython->ipytest) (2.4.0)\n",
      "Requirement already satisfied: typing-extensions>=3.10.0.0 in c:\\users\\almuravtsev\\appdata\\local\\programs\\python\\python39\\lib\\site-packages (from black->ipython->ipytest) (4.0.1)\n",
      "Requirement already satisfied: mypy-extensions>=0.4.3 in c:\\users\\almuravtsev\\appdata\\local\\programs\\python\\python39\\lib\\site-packages (from black->ipython->ipytest) (0.4.3)\n",
      "Requirement already satisfied: pyparsing!=3.0.5,>=2.0.2 in c:\\users\\almuravtsev\\appdata\\local\\programs\\python\\python39\\lib\\site-packages (from packaging->ipytest) (3.0.6)\n",
      "Requirement already satisfied: asttokens in c:\\users\\almuravtsev\\appdata\\local\\programs\\python\\python39\\lib\\site-packages (from stack-data->ipython->ipytest) (2.0.5)\n",
      "Requirement already satisfied: pure-eval in c:\\users\\almuravtsev\\appdata\\local\\programs\\python\\python39\\lib\\site-packages (from stack-data->ipython->ipytest) (0.2.1)\n",
      "Requirement already satisfied: executing in c:\\users\\almuravtsev\\appdata\\local\\programs\\python\\python39\\lib\\site-packages (from stack-data->ipython->ipytest) (0.8.2)\n",
      "Requirement already satisfied: six in c:\\users\\almuravtsev\\appdata\\roaming\\python\\python39\\site-packages (from asttokens->stack-data->ipython->ipytest) (1.16.0)\n",
      "Note: you may need to restart the kernel to use updated packages.\n"
     ]
    },
    {
     "name": "stderr",
     "output_type": "stream",
     "text": [
      "WARNING: You are using pip version 21.2.3; however, version 22.0.4 is available.\n",
      "You should consider upgrading via the 'C:\\Users\\almuravtsev\\AppData\\Local\\Programs\\Python\\Python39\\python.exe -m pip install --upgrade pip' command.\n"
     ]
    }
   ],
   "source": [
    "# Установка библиотек\n",
    "\n",
    "%pip install pytest\n",
    "%pip install ipytest\n",
    "\n",
    "# ipytest позволяет запускать pytest в jupyter тетрадях\n",
    "import ipytest\n",
    "import pytest\n",
    "\n",
    "# включает магические команды %%\n",
    "ipytest.autoconfig()\n",
    "\n",
    "__file__ = 'testing2_exercise.ipynb'"
   ]
  },
  {
   "cell_type": "markdown",
   "metadata": {},
   "source": [
    "# 1. Доделайте тест класса\n",
    "Ниже реализация класса `TodoList`. Заполните пропуски `____` в тесте"
   ]
  },
  {
   "cell_type": "code",
   "execution_count": 2,
   "metadata": {
    "editable": false
   },
   "outputs": [],
   "source": [
    "class TodoNotFound(Exception):\n",
    "    pass\n",
    "\n",
    "\n",
    "class TodoList:\n",
    "    def __init__(self):\n",
    "        self._todo = {}\n",
    "        self._done = {}\n",
    "        self._task_counter = 1\n",
    "\n",
    "    @property\n",
    "    def todo_tasks(self):\n",
    "        return self._todo\n",
    "\n",
    "    @property\n",
    "    def done_tasks(self):\n",
    "        return self._done\n",
    "\n",
    "    def add(self, task):\n",
    "        self._todo[self._task_counter] = task\n",
    "        self._task_counter += 1\n",
    "\n",
    "    def complete(self, number):\n",
    "        if number not in self._todo:\n",
    "            raise TodoNotFound('{} not in todos'.format(number))\n",
    "\n",
    "        task = self._todo.pop(number)\n",
    "        self._done[number] = task\n",
    "\n",
    "    def remove(self, number):\n",
    "        if number not in self._todo:\n",
    "            raise TodoNotFound('{} not in todos'.format(number))\n",
    "\n",
    "        del self._todo[number]"
   ]
  },
  {
   "cell_type": "markdown",
   "metadata": {},
   "source": [
    "Доделайте тест класса `TodoList`."
   ]
  },
  {
   "cell_type": "code",
   "execution_count": 3,
   "metadata": {},
   "outputs": [
    {
     "name": "stdout",
     "output_type": "stream",
     "text": [
      "\u001b[1m======================================= test session starts =======================================\u001b[0m\n",
      "platform win32 -- Python 3.9.7, pytest-7.1.1, pluggy-1.0.0\n",
      "rootdir: c:\\Users\\almuravtsev\\Documents\\PythonIntroCourse2020\\notebooks\\practice\n",
      "collected 6 items\n",
      "\n",
      "tmpt3wasuc5.py \u001b[32m.\u001b[0m\u001b[32m.\u001b[0m\u001b[32m.\u001b[0m\u001b[32m.\u001b[0m\u001b[32m.\u001b[0m\u001b[32m.\u001b[0m\u001b[32m                                                                        [100%]\u001b[0m\n",
      "\n",
      "\u001b[32m======================================== \u001b[32m\u001b[1m6 passed\u001b[0m\u001b[32m in 0.05s\u001b[0m\u001b[32m ========================================\u001b[0m\n"
     ]
    }
   ],
   "source": [
    "%%ipytest -v\n",
    "# и ещё можем добавить директивы (опции), подобные -v\n",
    "\n",
    "\n",
    "@pytest.fixture\n",
    "def todo_list():\n",
    "    tl = TodoList()\n",
    "    tl.add('buy milk')\n",
    "    tl.add('take dog out')\n",
    "    tl.add('learn pytest fixtures')\n",
    "    return tl\n",
    "\n",
    "\n",
    "def test_todo_tasks_property(todo_list):\n",
    "    todo = todo_list.todo_tasks\n",
    "    assert todo == {\n",
    "        1: 'buy milk',\n",
    "        2: 'take dog out',\n",
    "        3: 'learn pytest fixtures'\n",
    "    }\n",
    "\n",
    "\n",
    "def test_add(todo_list):\n",
    "    todo_list.add('check pytest docs')\n",
    "    todos = todo_list.todo_tasks\n",
    "    assert todos[4] == 'check pytest docs'\n",
    "\n",
    "\n",
    "def test_complete(todo_list):\n",
    "    # проверяем, что выполненных задач ещё нет\n",
    "    assert not todo_list.done_tasks\n",
    "\n",
    "    todo_list.complete(3)\n",
    "    done = todo_list.done_tasks\n",
    "    todo = todo_list.todo_tasks\n",
    "    assert done[3] == 'learn pytest fixtures'\n",
    "    assert 3 not in todo\n",
    "\n",
    "\n",
    "def test_complete_with_unknown_task_number(todo_list):\n",
    "    # С помощью raises можно проверить, что в случае нужной ошибки вызовется нужное нам исключение\n",
    "    with pytest.raises(TodoNotFound):\n",
    "        todo_list.complete(10)\n",
    "\n",
    "\n",
    "def test_remove(todo_list):\n",
    "    todo_list.remove(1)\n",
    "    done = todo_list.done_tasks\n",
    "    todo = todo_list.todo_tasks\n",
    "\n",
    "    assert 1 not in todo\n",
    "    # Проверяем, что задача 1 не попала в выполненные\n",
    "    assert not done\n",
    "\n",
    "\n",
    "def test_remove_with_unknown_task_number(todo_list):\n",
    "    with pytest.raises(TodoNotFound):\n",
    "        todo_list.remove(12)\n"
   ]
  },
  {
   "cell_type": "markdown",
   "metadata": {},
   "source": [
    "# 2. Тестируем функцию [Fibonacci numbers](https://en.wikipedia.org/wiki/Fibonacci_number)\n",
    "\n",
    "Напишите тест для функции `fibonacci`. Используйте декоратор `pytest.mark.parametrize` и протестируйте её как минимум для: 0, 1, 2, 3, 10. Справка про числа Фибоначчи и их значения [есть тут](https://ru.wikipedia.org/wiki/%D0%A7%D0%B8%D1%81%D0%BB%D0%B0_%D0%A4%D0%B8%D0%B1%D0%BE%D0%BD%D0%B0%D1%87%D1%87%D0%B8?oldformat=true)."
   ]
  },
  {
   "cell_type": "code",
   "execution_count": 4,
   "metadata": {
    "editable": false
   },
   "outputs": [],
   "source": [
    "def fibonacci(number):\n",
    "    if number in [0, 1]:\n",
    "        return number\n",
    "    return fibonacci(number - 1) + fibonacci(number - 2)"
   ]
  },
  {
   "cell_type": "code",
   "execution_count": 5,
   "metadata": {},
   "outputs": [
    {
     "name": "stdout",
     "output_type": "stream",
     "text": [
      "\u001b[32m.\u001b[0m\u001b[32m.\u001b[0m\u001b[32m.\u001b[0m\u001b[32m.\u001b[0m\u001b[32m.\u001b[0m\u001b[32m                                                                                        [100%]\u001b[0m\n",
      "\u001b[32m\u001b[32m\u001b[1m5 passed\u001b[0m\u001b[32m in 0.03s\u001b[0m\u001b[0m\n"
     ]
    }
   ],
   "source": [
    "%%ipytest\n",
    "\n",
    "@pytest.mark.parametrize(\n",
    "    (\"test_input\", \"expected\"), [\n",
    "        (0, 0),\n",
    "        (1, 1),\n",
    "        (2, 1),\n",
    "        (3, 2),\n",
    "        (10, 55)\n",
    "    ]\n",
    ")\n",
    "\n",
    "def test_fibonacci(test_input, expected):\n",
    "    assert fibonacci(test_input) == expected\n"
   ]
  },
  {
   "cell_type": "code",
   "execution_count": null,
   "metadata": {},
   "outputs": [],
   "source": []
  }
 ],
 "metadata": {
  "kernelspec": {
   "display_name": "Python 3 (ipykernel)",
   "language": "python",
   "name": "python3"
  },
  "language_info": {
   "codemirror_mode": {
    "name": "ipython",
    "version": 3
   },
   "file_extension": ".py",
   "mimetype": "text/x-python",
   "name": "python",
   "nbconvert_exporter": "python",
   "pygments_lexer": "ipython3",
   "version": "3.9.7"
  }
 },
 "nbformat": 4,
 "nbformat_minor": 2
}
