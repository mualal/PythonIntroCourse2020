{
 "cells": [
  {
   "cell_type": "code",
   "execution_count": 1,
   "metadata": {},
   "outputs": [],
   "source": [
    "import re"
   ]
  },
  {
   "cell_type": "markdown",
   "metadata": {},
   "source": [
    "# 1. Поиск подстроки\n",
    "Замените пропуск ____ на метод из библиотеки `re`, чтобы ниже получился match-объект `result`, по которому можно найти подстроку cat и индекс её начала и конца в исходной строке."
   ]
  },
  {
   "cell_type": "code",
   "execution_count": 2,
   "metadata": {},
   "outputs": [],
   "source": [
    "pattern_1 = re.compile(r\"cat\")"
   ]
  },
  {
   "cell_type": "code",
   "execution_count": 3,
   "metadata": {},
   "outputs": [],
   "source": [
    "result_1 = pattern_1.search(\"CatcatCATCaT\")"
   ]
  },
  {
   "cell_type": "code",
   "execution_count": 4,
   "metadata": {},
   "outputs": [],
   "source": [
    "assert result_1.start() == 3\n",
    "assert result_1.end() == 6\n",
    "assert result_1.group(0) == 'cat'"
   ]
  },
  {
   "cell_type": "markdown",
   "metadata": {},
   "source": [
    "# 2. Поиск подстроки определённого размера\n",
    "Замените пропуск ____ регулярным выражением, чтобы Найти все подстроки, в которых после символа“a” идёт 2 или 3 символа b\n",
    "\n",
    "\n",
    "В статье [на хабре](https://habr.com/ru/post/349860/) это объясняется - поищите в статье фигурные скобки и количество раз, которое в тексте повторяется шаблон"
   ]
  },
  {
   "cell_type": "code",
   "execution_count": 5,
   "metadata": {},
   "outputs": [],
   "source": [
    "pattern_2 = re.compile(r\"ab{2,3}\")"
   ]
  },
  {
   "cell_type": "code",
   "execution_count": 6,
   "metadata": {},
   "outputs": [],
   "source": [
    "result_2 = pattern_2.findall(\"Ab\")\n",
    "result_3 = pattern_2.findall(\"Cgiabb_abbb_ab_abbbbb\")"
   ]
  },
  {
   "cell_type": "code",
   "execution_count": 7,
   "metadata": {},
   "outputs": [],
   "source": [
    "# в первом случае findall должен выдать пустой список - ничего не нашлось\n",
    "assert result_2 == []"
   ]
  },
  {
   "cell_type": "code",
   "execution_count": 8,
   "metadata": {},
   "outputs": [],
   "source": [
    "# во втором случае - список найденных последовательностей\n",
    "assert result_3 == [\"abb\", \"abbb\", \"abbb\"]"
   ]
  },
  {
   "cell_type": "markdown",
   "metadata": {},
   "source": [
    "# 3. Поиск подстрок с разделителями\n",
    "Замените пропуск ____ регулярным выражением, чтобы найти все максимально длинные подстроки, в которых две (под)подстроки из букв **нижнего регистра** отделены символом “_”.\n",
    "\n",
    "См. `assert` ниже, чтобы лучше понять, что имеется в виду"
   ]
  },
  {
   "cell_type": "code",
   "execution_count": 9,
   "metadata": {},
   "outputs": [],
   "source": [
    "pattern_3 = re.compile(r\"[a-z]+_[a-z]+\")"
   ]
  },
  {
   "cell_type": "code",
   "execution_count": 10,
   "metadata": {},
   "outputs": [
    {
     "data": {
      "text/plain": [
       "<re.Match object; span=(11, 23), match='name_surname'>"
      ]
     },
     "execution_count": 10,
     "metadata": {},
     "output_type": "execute_result"
    }
   ],
   "source": [
    "# заметье, одна строка отличается от другой отсутствием одного из разделителей \"_\"\n",
    "# соответственно, и найтись в них должно разное\n",
    "# комбинируйте в резулярном выражении \"[a-z]\", нижнее подчёркивание и спецсимвол \"+\"\n",
    "\n",
    "result_4 = pattern_3.search(\"John_Smith name_surname_Name_Surname\")\n",
    "result_5 = pattern_3.search(\"John_Smith_name_surname_Name_Surname\")\n",
    "result_4"
   ]
  },
  {
   "cell_type": "code",
   "execution_count": 11,
   "metadata": {},
   "outputs": [],
   "source": [
    "assert result_4.group(0) == \"name_surname\"\n",
    "assert result_5.group(0) == \"mith_name\""
   ]
  },
  {
   "cell_type": "code",
   "execution_count": null,
   "metadata": {},
   "outputs": [],
   "source": []
  }
 ],
 "metadata": {
  "kernelspec": {
   "display_name": "Python 3",
   "language": "python",
   "name": "python3"
  },
  "language_info": {
   "codemirror_mode": {
    "name": "ipython",
    "version": 3
   },
   "file_extension": ".py",
   "mimetype": "text/x-python",
   "name": "python",
   "nbconvert_exporter": "python",
   "pygments_lexer": "ipython3",
   "version": "3.9.7"
  }
 },
 "nbformat": 4,
 "nbformat_minor": 2
}
